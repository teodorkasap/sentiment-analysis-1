{
 "cells": [
  {
   "cell_type": "markdown",
   "metadata": {},
   "source": [
    "# Stemming and Lemmatization"
   ]
  },
  {
   "cell_type": "markdown",
   "metadata": {},
   "source": [
    "## Imports"
   ]
  },
  {
   "cell_type": "code",
   "execution_count": 8,
   "metadata": {},
   "outputs": [],
   "source": [
    "import numpy as np\n",
    "import pandas as pd\n",
    "\n",
    "# nltk\n",
    "import nltk\n",
    "from nltk.tokenize import sent_tokenize, word_tokenize\n",
    "from nltk.stem import PorterStemmer\n",
    "from nltk.stem import WordNetLemmatizer\n",
    "\n",
    "# for multiprocessing\n",
    "from pandarallel import pandarallel\n",
    "\n",
    "# Ipython related imports\n",
    "from IPython.core.interactiveshell import InteractiveShell\n",
    "InteractiveShell.ast_node_interactivity = \"all\" #This is for multiple print statements per cell"
   ]
  },
  {
   "cell_type": "markdown",
   "metadata": {},
   "source": [
    "## Acquiring Data"
   ]
  },
  {
   "cell_type": "code",
   "execution_count": 2,
   "metadata": {},
   "outputs": [
    {
     "data": {
      "text/html": [
       "<div>\n",
       "<style scoped>\n",
       "    .dataframe tbody tr th:only-of-type {\n",
       "        vertical-align: middle;\n",
       "    }\n",
       "\n",
       "    .dataframe tbody tr th {\n",
       "        vertical-align: top;\n",
       "    }\n",
       "\n",
       "    .dataframe thead th {\n",
       "        text-align: right;\n",
       "    }\n",
       "</style>\n",
       "<table border=\"1\" class=\"dataframe\">\n",
       "  <thead>\n",
       "    <tr style=\"text-align: right;\">\n",
       "      <th></th>\n",
       "      <th>sentiment</th>\n",
       "      <th>text</th>\n",
       "    </tr>\n",
       "  </thead>\n",
       "  <tbody>\n",
       "    <tr>\n",
       "      <th>0</th>\n",
       "      <td>negative</td>\n",
       "      <td>oh no its fading away again</td>\n",
       "    </tr>\n",
       "    <tr>\n",
       "      <th>1</th>\n",
       "      <td>positive</td>\n",
       "      <td>bunnylake will kill me but i cant stop listeni...</td>\n",
       "    </tr>\n",
       "    <tr>\n",
       "      <th>2</th>\n",
       "      <td>negative</td>\n",
       "      <td>last day in cali  partyin for the last time wi...</td>\n",
       "    </tr>\n",
       "    <tr>\n",
       "      <th>3</th>\n",
       "      <td>negative</td>\n",
       "      <td>is having a major soar throat</td>\n",
       "    </tr>\n",
       "    <tr>\n",
       "      <th>4</th>\n",
       "      <td>positive</td>\n",
       "      <td>my last day as 12 years old</td>\n",
       "    </tr>\n",
       "    <tr>\n",
       "      <th>...</th>\n",
       "      <td>...</td>\n",
       "      <td>...</td>\n",
       "    </tr>\n",
       "    <tr>\n",
       "      <th>1611536</th>\n",
       "      <td>negative</td>\n",
       "      <td>twisuz yeah  and how did this happen  i was up...</td>\n",
       "    </tr>\n",
       "    <tr>\n",
       "      <th>1611537</th>\n",
       "      <td>negative</td>\n",
       "      <td>smittygoalie im sorry about your dog</td>\n",
       "    </tr>\n",
       "    <tr>\n",
       "      <th>1611538</th>\n",
       "      <td>negative</td>\n",
       "      <td>posipat im already there i wish you were here</td>\n",
       "    </tr>\n",
       "    <tr>\n",
       "      <th>1611539</th>\n",
       "      <td>negative</td>\n",
       "      <td>is thinking in 12 hours ill be at the airport ...</td>\n",
       "    </tr>\n",
       "    <tr>\n",
       "      <th>1611540</th>\n",
       "      <td>negative</td>\n",
       "      <td>ive exhausted my supply of sweets and snacks n...</td>\n",
       "    </tr>\n",
       "  </tbody>\n",
       "</table>\n",
       "<p>1611541 rows × 2 columns</p>\n",
       "</div>"
      ],
      "text/plain": [
       "        sentiment                                               text\n",
       "0        negative                       oh no its fading away again \n",
       "1        positive  bunnylake will kill me but i cant stop listeni...\n",
       "2        negative  last day in cali  partyin for the last time wi...\n",
       "3        negative                     is having a major soar throat \n",
       "4        positive                       my last day as 12 years old \n",
       "...           ...                                                ...\n",
       "1611536  negative  twisuz yeah  and how did this happen  i was up...\n",
       "1611537  negative              smittygoalie im sorry about your dog \n",
       "1611538  negative     posipat im already there i wish you were here \n",
       "1611539  negative  is thinking in 12 hours ill be at the airport ...\n",
       "1611540  negative  ive exhausted my supply of sweets and snacks n...\n",
       "\n",
       "[1611541 rows x 2 columns]"
      ]
     },
     "execution_count": 2,
     "metadata": {},
     "output_type": "execute_result"
    }
   ],
   "source": [
    "df = pd.read_csv('pre-cleaned_consolidated_tweet_data.csv', sep='\\t')\n",
    "df"
   ]
  },
  {
   "cell_type": "markdown",
   "metadata": {},
   "source": [
    "## Stemming and Lemmatization"
   ]
  },
  {
   "cell_type": "markdown",
   "metadata": {},
   "source": [
    "### Download necessary modules using nltk download"
   ]
  },
  {
   "cell_type": "code",
   "execution_count": 11,
   "metadata": {},
   "outputs": [
    {
     "name": "stdout",
     "output_type": "stream",
     "text": [
      "showing info https://raw.githubusercontent.com/nltk/nltk_data/gh-pages/index.xml\n"
     ]
    },
    {
     "data": {
      "text/plain": [
       "True"
      ]
     },
     "execution_count": 11,
     "metadata": {},
     "output_type": "execute_result"
    }
   ],
   "source": [
    "#call the nltk downloader\n",
    "# nltk.download()"
   ]
  },
  {
   "cell_type": "markdown",
   "metadata": {},
   "source": [
    "### Porter Stemmer"
   ]
  },
  {
   "cell_type": "code",
   "execution_count": 4,
   "metadata": {},
   "outputs": [],
   "source": [
    "# stem method definition \n",
    "porter=PorterStemmer()\n",
    "\n",
    "def stemSentence(sentence):\n",
    "    token_words=word_tokenize(sentence)\n",
    "    stem_sentence=[]\n",
    "    for word in token_words:\n",
    "        stem_sentence.append(porter.stem(word))\n",
    "        stem_sentence.append(\" \")\n",
    "    return \"\".join(stem_sentence)"
   ]
  },
  {
   "cell_type": "code",
   "execution_count": 5,
   "metadata": {},
   "outputs": [],
   "source": [
    "# applying stemming to the text column of each row !!single process\n",
    "# df['text'] = df['text'].apply(lambda x: stemSentence(x))\n",
    "# df"
   ]
  },
  {
   "cell_type": "code",
   "execution_count": 6,
   "metadata": {},
   "outputs": [
    {
     "name": "stdout",
     "output_type": "stream",
     "text": [
      "INFO: Pandarallel will run on 8 workers.\n",
      "INFO: Pandarallel will use Memory file system to transfer data between the main process and workers.\n"
     ]
    },
    {
     "data": {
      "text/html": [
       "<div>\n",
       "<style scoped>\n",
       "    .dataframe tbody tr th:only-of-type {\n",
       "        vertical-align: middle;\n",
       "    }\n",
       "\n",
       "    .dataframe tbody tr th {\n",
       "        vertical-align: top;\n",
       "    }\n",
       "\n",
       "    .dataframe thead th {\n",
       "        text-align: right;\n",
       "    }\n",
       "</style>\n",
       "<table border=\"1\" class=\"dataframe\">\n",
       "  <thead>\n",
       "    <tr style=\"text-align: right;\">\n",
       "      <th></th>\n",
       "      <th>sentiment</th>\n",
       "      <th>text</th>\n",
       "    </tr>\n",
       "  </thead>\n",
       "  <tbody>\n",
       "    <tr>\n",
       "      <th>0</th>\n",
       "      <td>negative</td>\n",
       "      <td>oh no it fade away again</td>\n",
       "    </tr>\n",
       "    <tr>\n",
       "      <th>1</th>\n",
       "      <td>positive</td>\n",
       "      <td>bunnylak will kill me but i cant stop listen t...</td>\n",
       "    </tr>\n",
       "    <tr>\n",
       "      <th>2</th>\n",
       "      <td>negative</td>\n",
       "      <td>last day in cali partyin for the last time wit...</td>\n",
       "    </tr>\n",
       "    <tr>\n",
       "      <th>3</th>\n",
       "      <td>negative</td>\n",
       "      <td>is have a major soar throat</td>\n",
       "    </tr>\n",
       "    <tr>\n",
       "      <th>4</th>\n",
       "      <td>positive</td>\n",
       "      <td>my last day as 12 year old</td>\n",
       "    </tr>\n",
       "    <tr>\n",
       "      <th>...</th>\n",
       "      <td>...</td>\n",
       "      <td>...</td>\n",
       "    </tr>\n",
       "    <tr>\n",
       "      <th>1611536</th>\n",
       "      <td>negative</td>\n",
       "      <td>twisuz yeah and how did thi happen i wa updat ...</td>\n",
       "    </tr>\n",
       "    <tr>\n",
       "      <th>1611537</th>\n",
       "      <td>negative</td>\n",
       "      <td>smittygoali im sorri about your dog</td>\n",
       "    </tr>\n",
       "    <tr>\n",
       "      <th>1611538</th>\n",
       "      <td>negative</td>\n",
       "      <td>posipat im alreadi there i wish you were here</td>\n",
       "    </tr>\n",
       "    <tr>\n",
       "      <th>1611539</th>\n",
       "      <td>negative</td>\n",
       "      <td>is think in 12 hour ill be at the airport thi ...</td>\n",
       "    </tr>\n",
       "    <tr>\n",
       "      <th>1611540</th>\n",
       "      <td>negative</td>\n",
       "      <td>ive exhaust my suppli of sweet and snack now i...</td>\n",
       "    </tr>\n",
       "  </tbody>\n",
       "</table>\n",
       "<p>1611541 rows × 2 columns</p>\n",
       "</div>"
      ],
      "text/plain": [
       "        sentiment                                               text\n",
       "0        negative                          oh no it fade away again \n",
       "1        positive  bunnylak will kill me but i cant stop listen t...\n",
       "2        negative  last day in cali partyin for the last time wit...\n",
       "3        negative                       is have a major soar throat \n",
       "4        positive                        my last day as 12 year old \n",
       "...           ...                                                ...\n",
       "1611536  negative  twisuz yeah and how did thi happen i wa updat ...\n",
       "1611537  negative               smittygoali im sorri about your dog \n",
       "1611538  negative     posipat im alreadi there i wish you were here \n",
       "1611539  negative  is think in 12 hour ill be at the airport thi ...\n",
       "1611540  negative  ive exhaust my suppli of sweet and snack now i...\n",
       "\n",
       "[1611541 rows x 2 columns]"
      ]
     },
     "execution_count": 6,
     "metadata": {},
     "output_type": "execute_result"
    }
   ],
   "source": [
    "# applying stemming to the text column of each row !!using all cores, multiple processes\n",
    "# the code below works fine, but performing this on a numpy array might save more time\n",
    "pandarallel.initialize()\n",
    "df['text'] = df['text'].parallel_apply(lambda x: stemSentence(x))\n",
    "df"
   ]
  },
  {
   "cell_type": "markdown",
   "metadata": {},
   "source": [
    "### Word Net Lemmatizer"
   ]
  },
  {
   "cell_type": "code",
   "execution_count": 9,
   "metadata": {},
   "outputs": [],
   "source": [
    "wordnet_lemmatizer = WordNetLemmatizer()\n",
    "\n",
    "def lemmatizeSentence(sentence):\n",
    "    token_words=word_tokenize(sentence)\n",
    "    lemmat_sentence=[]\n",
    "    for word in token_words:\n",
    "        lemmat_sentence.append(wordnet_lemmatizer.lemmatize(word))\n",
    "        lemmat_sentence.append(\" \")\n",
    "    return \"\".join(lemmat_sentence)"
   ]
  },
  {
   "cell_type": "code",
   "execution_count": 12,
   "metadata": {},
   "outputs": [
    {
     "data": {
      "text/html": [
       "<div>\n",
       "<style scoped>\n",
       "    .dataframe tbody tr th:only-of-type {\n",
       "        vertical-align: middle;\n",
       "    }\n",
       "\n",
       "    .dataframe tbody tr th {\n",
       "        vertical-align: top;\n",
       "    }\n",
       "\n",
       "    .dataframe thead th {\n",
       "        text-align: right;\n",
       "    }\n",
       "</style>\n",
       "<table border=\"1\" class=\"dataframe\">\n",
       "  <thead>\n",
       "    <tr style=\"text-align: right;\">\n",
       "      <th></th>\n",
       "      <th>sentiment</th>\n",
       "      <th>text</th>\n",
       "    </tr>\n",
       "  </thead>\n",
       "  <tbody>\n",
       "    <tr>\n",
       "      <th>0</th>\n",
       "      <td>negative</td>\n",
       "      <td>oh no it fade away again</td>\n",
       "    </tr>\n",
       "    <tr>\n",
       "      <th>1</th>\n",
       "      <td>positive</td>\n",
       "      <td>bunnylak will kill me but i cant stop listen t...</td>\n",
       "    </tr>\n",
       "    <tr>\n",
       "      <th>2</th>\n",
       "      <td>negative</td>\n",
       "      <td>last day in cali partyin for the last time wit...</td>\n",
       "    </tr>\n",
       "    <tr>\n",
       "      <th>3</th>\n",
       "      <td>negative</td>\n",
       "      <td>is have a major soar throat</td>\n",
       "    </tr>\n",
       "    <tr>\n",
       "      <th>4</th>\n",
       "      <td>positive</td>\n",
       "      <td>my last day a 12 year old</td>\n",
       "    </tr>\n",
       "    <tr>\n",
       "      <th>...</th>\n",
       "      <td>...</td>\n",
       "      <td>...</td>\n",
       "    </tr>\n",
       "    <tr>\n",
       "      <th>1611536</th>\n",
       "      <td>negative</td>\n",
       "      <td>twisuz yeah and how did thi happen i wa updat ...</td>\n",
       "    </tr>\n",
       "    <tr>\n",
       "      <th>1611537</th>\n",
       "      <td>negative</td>\n",
       "      <td>smittygoali im sorri about your dog</td>\n",
       "    </tr>\n",
       "    <tr>\n",
       "      <th>1611538</th>\n",
       "      <td>negative</td>\n",
       "      <td>posipat im alreadi there i wish you were here</td>\n",
       "    </tr>\n",
       "    <tr>\n",
       "      <th>1611539</th>\n",
       "      <td>negative</td>\n",
       "      <td>is think in 12 hour ill be at the airport thi ...</td>\n",
       "    </tr>\n",
       "    <tr>\n",
       "      <th>1611540</th>\n",
       "      <td>negative</td>\n",
       "      <td>ive exhaust my suppli of sweet and snack now i...</td>\n",
       "    </tr>\n",
       "  </tbody>\n",
       "</table>\n",
       "<p>1611541 rows × 2 columns</p>\n",
       "</div>"
      ],
      "text/plain": [
       "        sentiment                                               text\n",
       "0        negative                          oh no it fade away again \n",
       "1        positive  bunnylak will kill me but i cant stop listen t...\n",
       "2        negative  last day in cali partyin for the last time wit...\n",
       "3        negative                       is have a major soar throat \n",
       "4        positive                         my last day a 12 year old \n",
       "...           ...                                                ...\n",
       "1611536  negative  twisuz yeah and how did thi happen i wa updat ...\n",
       "1611537  negative               smittygoali im sorri about your dog \n",
       "1611538  negative     posipat im alreadi there i wish you were here \n",
       "1611539  negative  is think in 12 hour ill be at the airport thi ...\n",
       "1611540  negative  ive exhaust my suppli of sweet and snack now i...\n",
       "\n",
       "[1611541 rows x 2 columns]"
      ]
     },
     "execution_count": 12,
     "metadata": {},
     "output_type": "execute_result"
    }
   ],
   "source": [
    "# applying stemming to the text column of each row !!using all cores, multiple processes\n",
    "# the code below works fine, but performing this on a numpy array might save more time\n",
    "df['text'] = df['text'].parallel_apply(lambda x: lemmatizeSentence(x))\n",
    "df"
   ]
  },
  {
   "cell_type": "markdown",
   "metadata": {},
   "source": [
    "# Saving dataframe to file for later use"
   ]
  },
  {
   "cell_type": "code",
   "execution_count": 13,
   "metadata": {},
   "outputs": [],
   "source": [
    "df.to_csv('consolidated_tweet_data-cleaned-stemmed-lemmatized.csv', encoding='utf-8', index=False, sep='\\t')"
   ]
  }
 ],
 "metadata": {
  "hide_input": false,
  "kernelspec": {
   "display_name": "Python 3",
   "language": "python",
   "name": "python3"
  },
  "language_info": {
   "codemirror_mode": {
    "name": "ipython",
    "version": 3
   },
   "file_extension": ".py",
   "mimetype": "text/x-python",
   "name": "python",
   "nbconvert_exporter": "python",
   "pygments_lexer": "ipython3",
   "version": "3.7.5"
  },
  "toc": {
   "base_numbering": 1,
   "nav_menu": {},
   "number_sections": true,
   "sideBar": true,
   "skip_h1_title": false,
   "title_cell": "Table of Contents",
   "title_sidebar": "Contents",
   "toc_cell": false,
   "toc_position": {},
   "toc_section_display": true,
   "toc_window_display": false
  }
 },
 "nbformat": 4,
 "nbformat_minor": 4
}
