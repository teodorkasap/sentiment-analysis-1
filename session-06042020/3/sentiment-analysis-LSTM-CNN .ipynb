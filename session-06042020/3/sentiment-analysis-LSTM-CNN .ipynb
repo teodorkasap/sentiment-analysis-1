{
 "cells": [
  {
   "cell_type": "markdown",
   "metadata": {},
   "source": [
    "# Sentiment Analysis Using Tensorflow LSTM - CNN with Attention Layer"
   ]
  },
  {
   "cell_type": "markdown",
   "metadata": {},
   "source": [
    "## Imports"
   ]
  },
  {
   "cell_type": "code",
   "execution_count": 1,
   "metadata": {},
   "outputs": [],
   "source": [
    "from datetime import datetime\n",
    "import numpy as np\n",
    "import pandas as pd\n",
    "from sklearn.model_selection import train_test_split\n",
    "import matplotlib.pyplot as plt\n",
    "from tensorflow.keras.models import Sequential, load_model\n",
    "from tensorflow.compat.v1.keras.layers import CuDNNLSTM, Conv1D, MaxPooling1D, Embedding, Dropout,Dense, Bidirectional, BatchNormalization\n",
    "from tensorflow.keras.preprocessing.text import Tokenizer\n",
    "from tensorflow.keras.preprocessing.sequence import pad_sequences\n",
    "from tensorflow.keras.optimizers import RMSprop, Adamax , Adam\n",
    "\n",
    "from attention.layers import AttentionLayer\n",
    "import tensorflow as tf\n",
    "from tensorflow.python.client import device_lib\n",
    "\n",
    "from IPython.core.interactiveshell import InteractiveShell\n",
    "InteractiveShell.ast_node_interactivity = \"all\" #This is for multiple print statements per cell\n",
    "\n",
    "from tensorflow.compat.v1 import ConfigProto\n",
    "from tensorflow.compat.v1 import InteractiveSession\n",
    "\n",
    "config = ConfigProto()\n",
    "config.gpu_options.per_process_gpu_memory_fraction = 0.6\n",
    "config.gpu_options.allow_growth = True\n",
    "session = InteractiveSession(config=config)"
   ]
  },
  {
   "cell_type": "markdown",
   "metadata": {},
   "source": [
    "## Confirm GPU processing available"
   ]
  },
  {
   "cell_type": "code",
   "execution_count": 2,
   "metadata": {},
   "outputs": [
    {
     "name": "stdout",
     "output_type": "stream",
     "text": [
      "WARNING:tensorflow:From <ipython-input-2-33e7ec84a3f1>:3: is_gpu_available (from tensorflow.python.framework.test_util) is deprecated and will be removed in a future version.\n",
      "Instructions for updating:\n",
      "Use `tf.config.list_physical_devices('GPU')` instead.\n",
      "***If TF can access GPU: ***\n",
      "\n",
      " True\n",
      "\n",
      "[PhysicalDevice(name='/physical_device:GPU:0', device_type='GPU')]\n",
      "\n",
      "[name: \"/device:CPU:0\"\n",
      "device_type: \"CPU\"\n",
      "memory_limit: 268435456\n",
      "locality {\n",
      "}\n",
      "incarnation: 17144774613523864823\n",
      ", name: \"/device:XLA_CPU:0\"\n",
      "device_type: \"XLA_CPU\"\n",
      "memory_limit: 17179869184\n",
      "locality {\n",
      "}\n",
      "incarnation: 10899328592941501521\n",
      "physical_device_desc: \"device: XLA_CPU device\"\n",
      ", name: \"/device:XLA_GPU:0\"\n",
      "device_type: \"XLA_GPU\"\n",
      "memory_limit: 17179869184\n",
      "locality {\n",
      "}\n",
      "incarnation: 5054066414803236687\n",
      "physical_device_desc: \"device: XLA_GPU device\"\n",
      ", name: \"/device:GPU:0\"\n",
      "device_type: \"GPU\"\n",
      "memory_limit: 1259942707\n",
      "locality {\n",
      "  bus_id: 1\n",
      "  links {\n",
      "  }\n",
      "}\n",
      "incarnation: 1038032525735692042\n",
      "physical_device_desc: \"device: 0, name: GeForce MX150, pci bus id: 0000:02:00.0, compute capability: 6.1\"\n",
      "]\n"
     ]
    }
   ],
   "source": [
    "value = tf.test.is_gpu_available(\n",
    "    cuda_only=False,\n",
    "    min_cuda_compute_capability=None\n",
    ")\n",
    "print ('***If TF can access GPU: ***\\n\\n',value) # MUST RETURN True IF IT CAN!!\n",
    "\n",
    "print()\n",
    "value = tf.config.list_physical_devices('GPU')\n",
    "print(value)\n",
    "\n",
    "print()\n",
    "print(device_lib.list_local_devices())"
   ]
  },
  {
   "cell_type": "markdown",
   "metadata": {},
   "source": [
    "## Getting data"
   ]
  },
  {
   "cell_type": "code",
   "execution_count": 3,
   "metadata": {},
   "outputs": [
    {
     "data": {
      "text/html": [
       "<div>\n",
       "<style scoped>\n",
       "    .dataframe tbody tr th:only-of-type {\n",
       "        vertical-align: middle;\n",
       "    }\n",
       "\n",
       "    .dataframe tbody tr th {\n",
       "        vertical-align: top;\n",
       "    }\n",
       "\n",
       "    .dataframe thead th {\n",
       "        text-align: right;\n",
       "    }\n",
       "</style>\n",
       "<table border=\"1\" class=\"dataframe\">\n",
       "  <thead>\n",
       "    <tr style=\"text-align: right;\">\n",
       "      <th></th>\n",
       "      <th>sentiment</th>\n",
       "      <th>text</th>\n",
       "    </tr>\n",
       "  </thead>\n",
       "  <tbody>\n",
       "    <tr>\n",
       "      <th>0</th>\n",
       "      <td>negative</td>\n",
       "      <td>oh no it fade away again</td>\n",
       "    </tr>\n",
       "    <tr>\n",
       "      <th>1</th>\n",
       "      <td>positive</td>\n",
       "      <td>bunnylak will kill me but i cant stop listen t...</td>\n",
       "    </tr>\n",
       "    <tr>\n",
       "      <th>2</th>\n",
       "      <td>negative</td>\n",
       "      <td>last day in cali partyin for the last time wit...</td>\n",
       "    </tr>\n",
       "    <tr>\n",
       "      <th>3</th>\n",
       "      <td>negative</td>\n",
       "      <td>is have a major soar throat</td>\n",
       "    </tr>\n",
       "    <tr>\n",
       "      <th>4</th>\n",
       "      <td>positive</td>\n",
       "      <td>my last day a 12 year old</td>\n",
       "    </tr>\n",
       "    <tr>\n",
       "      <th>...</th>\n",
       "      <td>...</td>\n",
       "      <td>...</td>\n",
       "    </tr>\n",
       "    <tr>\n",
       "      <th>1611536</th>\n",
       "      <td>negative</td>\n",
       "      <td>twisuz yeah and how did thi happen i wa updat ...</td>\n",
       "    </tr>\n",
       "    <tr>\n",
       "      <th>1611537</th>\n",
       "      <td>negative</td>\n",
       "      <td>smittygoali im sorri about your dog</td>\n",
       "    </tr>\n",
       "    <tr>\n",
       "      <th>1611538</th>\n",
       "      <td>negative</td>\n",
       "      <td>posipat im alreadi there i wish you were here</td>\n",
       "    </tr>\n",
       "    <tr>\n",
       "      <th>1611539</th>\n",
       "      <td>negative</td>\n",
       "      <td>is think in 12 hour ill be at the airport thi ...</td>\n",
       "    </tr>\n",
       "    <tr>\n",
       "      <th>1611540</th>\n",
       "      <td>negative</td>\n",
       "      <td>ive exhaust my suppli of sweet and snack now i...</td>\n",
       "    </tr>\n",
       "  </tbody>\n",
       "</table>\n",
       "<p>1611541 rows × 2 columns</p>\n",
       "</div>"
      ],
      "text/plain": [
       "        sentiment                                               text\n",
       "0        negative                          oh no it fade away again \n",
       "1        positive  bunnylak will kill me but i cant stop listen t...\n",
       "2        negative  last day in cali partyin for the last time wit...\n",
       "3        negative                       is have a major soar throat \n",
       "4        positive                         my last day a 12 year old \n",
       "...           ...                                                ...\n",
       "1611536  negative  twisuz yeah and how did thi happen i wa updat ...\n",
       "1611537  negative               smittygoali im sorri about your dog \n",
       "1611538  negative     posipat im alreadi there i wish you were here \n",
       "1611539  negative  is think in 12 hour ill be at the airport thi ...\n",
       "1611540  negative  ive exhaust my suppli of sweet and snack now i...\n",
       "\n",
       "[1611541 rows x 2 columns]"
      ]
     },
     "execution_count": 3,
     "metadata": {},
     "output_type": "execute_result"
    }
   ],
   "source": [
    "df = pd.read_csv('consolidated_tweet_data-cleaned-stemmed-lemmatized.csv', sep='\\t')\n",
    "df"
   ]
  },
  {
   "cell_type": "code",
   "execution_count": 4,
   "metadata": {},
   "outputs": [
    {
     "data": {
      "text/html": [
       "<div>\n",
       "<style scoped>\n",
       "    .dataframe tbody tr th:only-of-type {\n",
       "        vertical-align: middle;\n",
       "    }\n",
       "\n",
       "    .dataframe tbody tr th {\n",
       "        vertical-align: top;\n",
       "    }\n",
       "\n",
       "    .dataframe thead th {\n",
       "        text-align: right;\n",
       "    }\n",
       "</style>\n",
       "<table border=\"1\" class=\"dataframe\">\n",
       "  <thead>\n",
       "    <tr style=\"text-align: right;\">\n",
       "      <th></th>\n",
       "      <th>sentiment</th>\n",
       "      <th>text</th>\n",
       "    </tr>\n",
       "  </thead>\n",
       "  <tbody>\n",
       "    <tr>\n",
       "      <th>0</th>\n",
       "      <td>negative</td>\n",
       "      <td>well cleveland did not have a good night</td>\n",
       "    </tr>\n",
       "    <tr>\n",
       "      <th>1</th>\n",
       "      <td>positive</td>\n",
       "      <td>btw good morn and have a great day everyon oh ...</td>\n",
       "    </tr>\n",
       "    <tr>\n",
       "      <th>2</th>\n",
       "      <td>positive</td>\n",
       "      <td>staceykay doyourememberwhen you had to get up ...</td>\n",
       "    </tr>\n",
       "    <tr>\n",
       "      <th>3</th>\n",
       "      <td>negative</td>\n",
       "      <td>on my way to heather for grad partyhop to see ...</td>\n",
       "    </tr>\n",
       "    <tr>\n",
       "      <th>4</th>\n",
       "      <td>negative</td>\n",
       "      <td>my mouth tast like poor choic</td>\n",
       "    </tr>\n",
       "    <tr>\n",
       "      <th>...</th>\n",
       "      <td>...</td>\n",
       "      <td>...</td>\n",
       "    </tr>\n",
       "    <tr>\n",
       "      <th>402880</th>\n",
       "      <td>negative</td>\n",
       "      <td>i realli hope she isnt date him</td>\n",
       "    </tr>\n",
       "    <tr>\n",
       "      <th>402881</th>\n",
       "      <td>negative</td>\n",
       "      <td>odarygh nodnod it realli boggl my mind a rydra...</td>\n",
       "    </tr>\n",
       "    <tr>\n",
       "      <th>402882</th>\n",
       "      <td>negative</td>\n",
       "      <td>mahika oh lol yeah sam is not ahead</td>\n",
       "    </tr>\n",
       "    <tr>\n",
       "      <th>402883</th>\n",
       "      <td>negative</td>\n",
       "      <td>at work till eleven</td>\n",
       "    </tr>\n",
       "    <tr>\n",
       "      <th>402884</th>\n",
       "      <td>negative</td>\n",
       "      <td>thi nephz ike harajuku barbi wana kno wat da r...</td>\n",
       "    </tr>\n",
       "  </tbody>\n",
       "</table>\n",
       "<p>402885 rows × 2 columns</p>\n",
       "</div>"
      ],
      "text/plain": [
       "       sentiment                                               text\n",
       "0       negative          well cleveland did not have a good night \n",
       "1       positive  btw good morn and have a great day everyon oh ...\n",
       "2       positive  staceykay doyourememberwhen you had to get up ...\n",
       "3       negative  on my way to heather for grad partyhop to see ...\n",
       "4       negative                     my mouth tast like poor choic \n",
       "...          ...                                                ...\n",
       "402880  negative                   i realli hope she isnt date him \n",
       "402881  negative  odarygh nodnod it realli boggl my mind a rydra...\n",
       "402882  negative               mahika oh lol yeah sam is not ahead \n",
       "402883  negative                               at work till eleven \n",
       "402884  negative  thi nephz ike harajuku barbi wana kno wat da r...\n",
       "\n",
       "[402885 rows x 2 columns]"
      ]
     },
     "execution_count": 4,
     "metadata": {},
     "output_type": "execute_result"
    }
   ],
   "source": [
    "# How much of Dataset to be used\n",
    "frac = 0.25\n",
    "# sample and shuffle the dataset according to the fraction choise in the line above\n",
    "df = df.sample(frac=frac).reset_index(drop=True)\n",
    "df"
   ]
  },
  {
   "cell_type": "markdown",
   "metadata": {},
   "source": [
    "## Tokenization for training"
   ]
  },
  {
   "cell_type": "code",
   "execution_count": 5,
   "metadata": {},
   "outputs": [],
   "source": [
    "vocabulary_size = 8000"
   ]
  },
  {
   "cell_type": "code",
   "execution_count": 6,
   "metadata": {
    "scrolled": true
   },
   "outputs": [],
   "source": [
    "tokenizer = Tokenizer(num_words=vocabulary_size, split=\" \", oov_token='<OOV>')\n",
    "tokenizer.fit_on_texts(df['text'].values)"
   ]
  },
  {
   "cell_type": "code",
   "execution_count": 7,
   "metadata": {},
   "outputs": [
    {
     "data": {
      "text/plain": [
       "array([[   0,    0,    0,    0,    0,    0,    0,    0,    0,    0,    0,\n",
       "           0,    0,    0,    0,    0,    0,    0,    0,    0,    0,    0,\n",
       "           0,    0,    0,    0,    0,    0,    0,    0,    0,   71, 3481,\n",
       "         126,   27,   17,    5,   32,   73],\n",
       "       [   0,    0,    0,    0,    0,    0,    0,    0,    0,    0,    0,\n",
       "           0,    0,    0,    0,    0,    0,    0,    0,    0,    0,    0,\n",
       "           0,    0,    0,    0,  507,   32,  100,    8,   17,    5,  104,\n",
       "          29,  174,   90,  148,    8,    1],\n",
       "       [   0,    0,    0,    0,    0,    0,    0,    0,    0,    0,    0,\n",
       "           0,    0,    0,    0,    0,    0,    0,    0,    0,    1,    1,\n",
       "           9,   68,    3,   26,   33,    8,  381,    4, 5959,   16,    4,\n",
       "         420,    3,   26,  295,  580, 1122],\n",
       "       [   0,    0,    0,    0,    0,    0,    0,    0,    0,    0,    0,\n",
       "           0,    0,    0,    0,    0,    0,    0,    0,    0,    0,   16,\n",
       "           7,  132,    3, 3767,   11, 1447,    1,    3,   62,    1,   69,\n",
       "         267,   67,  430,  157,  288, 2416],\n",
       "       [   0,    0,    0,    0,    0,    0,    0,    0,    0,    0,    0,\n",
       "           0,    0,    0,    0,    0,    0,    0,    0,    0,    0,    0,\n",
       "           0,    0,    0,    0,    0,    0,    0,    0,    0,    0,    0,\n",
       "           7, 1292,  846,   36,  344, 1138]], dtype=int32)"
      ]
     },
     "execution_count": 7,
     "metadata": {},
     "output_type": "execute_result"
    }
   ],
   "source": [
    "X = tokenizer.texts_to_sequences(df['text'].values)\n",
    "X = pad_sequences(X) # padding our text vector so they all have the same length\n",
    "X[:5]"
   ]
  },
  {
   "cell_type": "markdown",
   "metadata": {},
   "source": [
    "## Model, Training and Testing"
   ]
  },
  {
   "cell_type": "markdown",
   "metadata": {},
   "source": [
    "### Creating the model"
   ]
  },
  {
   "cell_type": "code",
   "execution_count": 8,
   "metadata": {},
   "outputs": [],
   "source": [
    "model = Sequential()\n",
    "model.add(Embedding(vocabulary_size, 256, input_length=X.shape[1]))\n",
    "# model.add(Dropout(0.3))\n",
    "model.add(Bidirectional(CuDNNLSTM(256, return_sequences=True)))\n",
    "model.add(Dropout(0.3))\n",
    "model.add(Conv1D(32,16,padding=\"same\",activation=\"relu\"))\n",
    "model.add(MaxPooling1D(pool_size=2))\n",
    "model.add(Conv1D(64,12,padding=\"same\",activation=\"relu\"))\n",
    "model.add(MaxPooling1D(pool_size=2))\n",
    "model.add(Conv1D(128,9,padding=\"same\",activation=\"relu\"))\n",
    "model.add(MaxPooling1D(pool_size=2))\n",
    "model.add(AttentionLayer(name='attention'))\n",
    "model.add(BatchNormalization())\n",
    "model.add(Dense(2, activation='sigmoid'))"
   ]
  },
  {
   "cell_type": "code",
   "execution_count": 9,
   "metadata": {},
   "outputs": [
    {
     "name": "stdout",
     "output_type": "stream",
     "text": [
      "Model: \"sequential\"\n",
      "_________________________________________________________________\n",
      "Layer (type)                 Output Shape              Param #   \n",
      "=================================================================\n",
      "embedding (Embedding)        (None, 39, 256)           2048000   \n",
      "_________________________________________________________________\n",
      "bidirectional (Bidirectional (None, 39, 512)           1052672   \n",
      "_________________________________________________________________\n",
      "dropout (Dropout)            (None, 39, 512)           0         \n",
      "_________________________________________________________________\n",
      "conv1d (Conv1D)              (None, 39, 32)            262176    \n",
      "_________________________________________________________________\n",
      "max_pooling1d (MaxPooling1D) (None, 19, 32)            0         \n",
      "_________________________________________________________________\n",
      "conv1d_1 (Conv1D)            (None, 19, 64)            24640     \n",
      "_________________________________________________________________\n",
      "max_pooling1d_1 (MaxPooling1 (None, 9, 64)             0         \n",
      "_________________________________________________________________\n",
      "conv1d_2 (Conv1D)            (None, 9, 128)            73856     \n",
      "_________________________________________________________________\n",
      "max_pooling1d_2 (MaxPooling1 (None, 4, 128)            0         \n",
      "_________________________________________________________________\n",
      "attention (AttentionLayer)   (None, 128)               16640     \n",
      "_________________________________________________________________\n",
      "batch_normalization (BatchNo (None, 128)               512       \n",
      "_________________________________________________________________\n",
      "dense (Dense)                (None, 2)                 258       \n",
      "=================================================================\n",
      "Total params: 3,478,754\n",
      "Trainable params: 3,478,498\n",
      "Non-trainable params: 256\n",
      "_________________________________________________________________\n"
     ]
    }
   ],
   "source": [
    "model.compile(loss='binary_crossentropy', optimizer='adam', metrics=['accuracy'])\n",
    "model.summary()"
   ]
  },
  {
   "cell_type": "markdown",
   "metadata": {},
   "source": [
    "### Training the model"
   ]
  },
  {
   "cell_type": "code",
   "execution_count": 12,
   "metadata": {},
   "outputs": [
    {
     "name": "stdout",
     "output_type": "stream",
     "text": [
      "negative [1 0]\n",
      "positive [0 1]\n",
      "positive [0 1]\n",
      "negative [1 0]\n",
      "negative [1 0]\n"
     ]
    },
    {
     "data": {
      "text/plain": [
       "[None, None, None, None, None]"
      ]
     },
     "execution_count": 12,
     "metadata": {},
     "output_type": "execute_result"
    }
   ],
   "source": [
    "y = pd.get_dummies(df['sentiment']).values\n",
    "[print(df['sentiment'][i], y[i]) for i in range(0,5)]"
   ]
  },
  {
   "cell_type": "code",
   "execution_count": 13,
   "metadata": {},
   "outputs": [],
   "source": [
    "X_train, X_test, y_train, y_test = train_test_split(X, y, test_size=0.2, random_state=0)"
   ]
  },
  {
   "cell_type": "code",
   "execution_count": 14,
   "metadata": {},
   "outputs": [
    {
     "name": "stdout",
     "output_type": "stream",
     "text": [
      "started at:\n",
      "1586177840.9282196\n",
      "Train on 322308 samples\n",
      "Epoch 1/6\n",
      "322308/322308 - 452s - loss: 0.4570 - accuracy: 0.7855\n",
      "Epoch 2/6\n",
      "322308/322308 - 442s - loss: 0.4076 - accuracy: 0.8154\n",
      "Epoch 3/6\n",
      "322308/322308 - 437s - loss: 0.3812 - accuracy: 0.8309\n",
      "Epoch 4/6\n",
      "322308/322308 - 436s - loss: 0.3541 - accuracy: 0.8457\n",
      "Epoch 5/6\n",
      "322308/322308 - 440s - loss: 0.3250 - accuracy: 0.8601\n",
      "Epoch 6/6\n",
      "322308/322308 - 441s - loss: 0.2926 - accuracy: 0.8769\n",
      "44.14477658669154  minutes\n"
     ]
    }
   ],
   "source": [
    "batch_size = 32\n",
    "epochs = 6\n",
    "import time\n",
    "from datetime import datetime\n",
    "datetime = str(datetime.now())\n",
    "csv_logger = tf.keras.callbacks.CSVLogger('training'+datetime+'.log')\n",
    "start = time.time()\n",
    "print(\"started at:\")\n",
    "print(start)\n",
    "history = model.fit(X_train, y_train, epochs=epochs, batch_size=batch_size, verbose=2, callbacks=[csv_logger])\n",
    "end = time.time()\n",
    "elapsed = end - start\n",
    "print(elapsed/60,\" minutes\")"
   ]
  },
  {
   "cell_type": "markdown",
   "metadata": {},
   "source": [
    "Plotting training history"
   ]
  },
  {
   "cell_type": "code",
   "execution_count": 15,
   "metadata": {},
   "outputs": [
    {
     "data": {
      "text/plain": [
       "[<matplotlib.lines.Line2D at 0x7f4a88a07e10>]"
      ]
     },
     "execution_count": 15,
     "metadata": {},
     "output_type": "execute_result"
    },
    {
     "data": {
      "text/plain": [
       "Text(0.5, 1.0, 'Model accuracy')"
      ]
     },
     "execution_count": 15,
     "metadata": {},
     "output_type": "execute_result"
    },
    {
     "data": {
      "text/plain": [
       "Text(0, 0.5, 'Accuracy')"
      ]
     },
     "execution_count": 15,
     "metadata": {},
     "output_type": "execute_result"
    },
    {
     "data": {
      "text/plain": [
       "Text(0.5, 0, 'Epoch')"
      ]
     },
     "execution_count": 15,
     "metadata": {},
     "output_type": "execute_result"
    },
    {
     "data": {
      "text/plain": [
       "<matplotlib.legend.Legend at 0x7f4a88a07ed0>"
      ]
     },
     "execution_count": 15,
     "metadata": {},
     "output_type": "execute_result"
    },
    {
     "data": {
      "image/png": "[encoded data removed]",
      "text/plain": [
       "<Figure size 432x288 with 1 Axes>"
      ]
     },
     "metadata": {
      "needs_background": "light"
     },
     "output_type": "display_data"
    },
    {
     "data": {
      "text/plain": [
       "[<matplotlib.lines.Line2D at 0x7f490a647d10>]"
      ]
     },
     "execution_count": 15,
     "metadata": {},
     "output_type": "execute_result"
    },
    {
     "data": {
      "text/plain": [
       "Text(0.5, 1.0, 'Model loss')"
      ]
     },
     "execution_count": 15,
     "metadata": {},
     "output_type": "execute_result"
    },
    {
     "data": {
      "text/plain": [
       "Text(0, 0.5, 'Loss')"
      ]
     },
     "execution_count": 15,
     "metadata": {},
     "output_type": "execute_result"
    },
    {
     "data": {
      "text/plain": [
       "Text(0.5, 0, 'Epoch')"
      ]
     },
     "execution_count": 15,
     "metadata": {},
     "output_type": "execute_result"
    },
    {
     "data": {
      "text/plain": [
       "<matplotlib.legend.Legend at 0x7f4a884c7d50>"
      ]
     },
     "execution_count": 15,
     "metadata": {},
     "output_type": "execute_result"
    },
    {
     "data": {
      "image/png": "[encoded data removed]",
      "text/plain": [
       "<Figure size 432x288 with 1 Axes>"
      ]
     },
     "metadata": {
      "needs_background": "light"
     },
     "output_type": "display_data"
    }
   ],
   "source": [
    "# Plot training & validation accuracy values\n",
    "plt.plot(history.history['accuracy'])\n",
    "# plt.plot(history.history['val_accuracy'])\n",
    "plt.title('Model accuracy')\n",
    "plt.ylabel('Accuracy')\n",
    "plt.xlabel('Epoch')\n",
    "plt.legend(['Train', 'Test'], loc='upper left')\n",
    "plt.show()\n",
    "\n",
    "# Plot training & validation loss values\n",
    "plt.plot(history.history['loss'])\n",
    "# plt.plot(history.history['val_loss'])\n",
    "plt.title('Model loss')\n",
    "plt.ylabel('Loss')\n",
    "plt.xlabel('Epoch')\n",
    "plt.legend(['Train', 'Test'], loc='upper left')\n",
    "plt.show()\n"
   ]
  },
  {
   "cell_type": "markdown",
   "metadata": {},
   "source": [
    "### Testing the model"
   ]
  },
  {
   "cell_type": "code",
   "execution_count": 16,
   "metadata": {},
   "outputs": [
    {
     "name": "stdout",
     "output_type": "stream",
     "text": [
      "well cleveland did not have a good night  [0.9767314  0.02302214] [1 0]\n",
      "btw good morn and have a great day everyon oh yeah and firepratt  [0.94851834 0.05099851] [1 0]\n",
      "staceykay doyourememberwhen you had to get up and turn the dial on the tv to get those 7 channel  [0.8787651  0.12203421] [1 0]\n",
      "on my way to heather for grad partyhop to see erikscottberg there havent realli seen him sinc thur  [0.96657526 0.03268743] [1 0]\n",
      "my mouth tast like poor choic  [0.0375951 0.9619317] [1 0]\n"
     ]
    },
    {
     "data": {
      "text/plain": [
       "[None, None, None, None, None]"
      ]
     },
     "execution_count": 16,
     "metadata": {},
     "output_type": "execute_result"
    }
   ],
   "source": [
    "predictions = model.predict(X_test)\n",
    "[print(df['text'][i], predictions[i], y_test[i]) for i in range(0, 5)]"
   ]
  },
  {
   "cell_type": "code",
   "execution_count": 17,
   "metadata": {},
   "outputs": [
    {
     "name": "stdout",
     "output_type": "stream",
     "text": [
      "Number of predictions:  80577\n",
      "Number of accurate predictions:  64739\n",
      "Number of false predictions:  15838\n",
      "Accuracy:  0.803442669744468\n"
     ]
    }
   ],
   "source": [
    "accurate_prediction_count, inaccurate_prediction_count = 0, 0\n",
    "for i, prediction in enumerate(predictions):\n",
    "    if np.argmax(prediction)==np.argmax(y_test[i]):\n",
    "        accurate_prediction_count += 1\n",
    "    else:\n",
    "        inaccurate_prediction_count += 1\n",
    "\n",
    "total_predictions = accurate_prediction_count + inaccurate_prediction_count\n",
    "print('Number of predictions: ', total_predictions)\n",
    "print('Number of accurate predictions: ', accurate_prediction_count)\n",
    "print('Number of false predictions: ', inaccurate_prediction_count)    \n",
    "print('Accuracy: ', accurate_prediction_count/total_predictions)"
   ]
  },
  {
   "cell_type": "markdown",
   "metadata": {},
   "source": [
    "### Saving the trained model"
   ]
  },
  {
   "cell_type": "markdown",
   "metadata": {},
   "source": [
    "name of the file"
   ]
  },
  {
   "cell_type": "code",
   "execution_count": 18,
   "metadata": {},
   "outputs": [],
   "source": [
    "name = 'sentiment-analysis-trained-model'"
   ]
  },
  {
   "cell_type": "code",
   "execution_count": 19,
   "metadata": {},
   "outputs": [
    {
     "name": "stdout",
     "output_type": "stream",
     "text": [
      "20200406164518139874\n"
     ]
    }
   ],
   "source": [
    "from datetime import datetime\n",
    "dateTimeObj = datetime.now()\n",
    "date = str(dateTimeObj.date())\n",
    "time = str(dateTimeObj.time())\n",
    "timestamp = date+time\n",
    "punctuation = ['-',':','.']\n",
    "for sign in punctuation:\n",
    "    timestamp = timestamp.replace(sign,'')\n",
    "print(timestamp)"
   ]
  },
  {
   "cell_type": "code",
   "execution_count": 20,
   "metadata": {},
   "outputs": [],
   "source": [
    "model.save(name+timestamp+'.h5')"
   ]
  }
 ],
 "metadata": {
  "hide_input": false,
  "kernelspec": {
   "display_name": "Python 3",
   "language": "python",
   "name": "python3"
  },
  "language_info": {
   "codemirror_mode": {
    "name": "ipython",
    "version": 3
   },
   "file_extension": ".py",
   "mimetype": "text/x-python",
   "name": "python",
   "nbconvert_exporter": "python",
   "pygments_lexer": "ipython3",
   "version": "3.7.5"
  },
  "toc": {
   "base_numbering": 1,
   "nav_menu": {},
   "number_sections": false,
   "sideBar": true,
   "skip_h1_title": false,
   "title_cell": "Table of Contents",
   "title_sidebar": "Contents",
   "toc_cell": false,
   "toc_position": {},
   "toc_section_display": true,
   "toc_window_display": true
  }
 },
 "nbformat": 4,
 "nbformat_minor": 4
}
