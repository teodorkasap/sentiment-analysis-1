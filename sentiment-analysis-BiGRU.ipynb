{
 "cells": [
  {
   "cell_type": "markdown",
   "metadata": {},
   "source": [
    "# Sentiment Analysis Using Tensorflow GRU with Attention Layer"
   ]
  },
  {
   "cell_type": "markdown",
   "metadata": {},
   "source": [
    "## Imports"
   ]
  },
  {
   "cell_type": "code",
   "execution_count": 20,
   "metadata": {},
   "outputs": [
    {
     "name": "stderr",
     "output_type": "stream",
     "text": [
      "/home/erolerten/anaconda3/envs/venv-tensorflow/lib/python3.7/site-packages/tensorflow_core/python/client/session.py:1752: UserWarning: An interactive session is already active. This can cause out-of-memory errors in some cases. You must explicitly call `InteractiveSession.close()` to release resources held by the other session(s).\n",
      "  warnings.warn('An interactive session is already active. This can '\n"
     ]
    }
   ],
   "source": [
    "from datetime import datetime\n",
    "import numpy as np\n",
    "import pandas as pd\n",
    "from sklearn.model_selection import train_test_split\n",
    "import matplotlib.pyplot as plt\n",
    "from tensorflow.keras.models import Sequential, load_model\n",
    "from tensorflow.compat.v1.keras.layers import CuDNNGRU, Embedding, Dropout,Dense, Bidirectional, BatchNormalization\n",
    "from tensorflow.keras.preprocessing.text import Tokenizer\n",
    "from tensorflow.keras.preprocessing.sequence import pad_sequences\n",
    "from tensorflow.keras.optimizers import RMSprop, Adamax , Adam\n",
    "\n",
    "from attention.layers import AttentionLayer\n",
    "import tensorflow as tf\n",
    "from tensorflow.python.client import device_lib\n",
    "\n",
    "from IPython.core.interactiveshell import InteractiveShell\n",
    "InteractiveShell.ast_node_interactivity = \"all\" #This is for multiple print statements per cell\n",
    "\n",
    "from tensorflow.compat.v1 import ConfigProto\n",
    "from tensorflow.compat.v1 import InteractiveSession\n",
    "\n",
    "config = ConfigProto()\n",
    "config.gpu_options.per_process_gpu_memory_fraction = 0.6\n",
    "config.gpu_options.allow_growth = True\n",
    "session = InteractiveSession(config=config)"
   ]
  },
  {
   "cell_type": "markdown",
   "metadata": {},
   "source": [
    "## Confirm GPU processing available"
   ]
  },
  {
   "cell_type": "code",
   "execution_count": 21,
   "metadata": {},
   "outputs": [
    {
     "name": "stdout",
     "output_type": "stream",
     "text": [
      "***If TF can access GPU: ***\n",
      "\n",
      " True\n",
      "\n",
      "[PhysicalDevice(name='/physical_device:GPU:0', device_type='GPU')]\n",
      "\n",
      "[name: \"/device:CPU:0\"\n",
      "device_type: \"CPU\"\n",
      "memory_limit: 268435456\n",
      "locality {\n",
      "}\n",
      "incarnation: 12114711839984928876\n",
      ", name: \"/device:XLA_CPU:0\"\n",
      "device_type: \"XLA_CPU\"\n",
      "memory_limit: 17179869184\n",
      "locality {\n",
      "}\n",
      "incarnation: 12950043876700479404\n",
      "physical_device_desc: \"device: XLA_CPU device\"\n",
      ", name: \"/device:XLA_GPU:0\"\n",
      "device_type: \"XLA_GPU\"\n",
      "memory_limit: 17179869184\n",
      "locality {\n",
      "}\n",
      "incarnation: 14099549805735404233\n",
      "physical_device_desc: \"device: XLA_GPU device\"\n",
      ", name: \"/device:GPU:0\"\n",
      "device_type: \"GPU\"\n",
      "memory_limit: 1259942707\n",
      "locality {\n",
      "  bus_id: 1\n",
      "  links {\n",
      "  }\n",
      "}\n",
      "incarnation: 8634013403600995777\n",
      "physical_device_desc: \"device: 0, name: GeForce MX150, pci bus id: 0000:02:00.0, compute capability: 6.1\"\n",
      "]\n"
     ]
    }
   ],
   "source": [
    "value = tf.test.is_gpu_available(\n",
    "    cuda_only=False,\n",
    "    min_cuda_compute_capability=None\n",
    ")\n",
    "print ('***If TF can access GPU: ***\\n\\n',value) # MUST RETURN True IF IT CAN!!\n",
    "\n",
    "print()\n",
    "value = tf.config.list_physical_devices('GPU')\n",
    "print(value)\n",
    "\n",
    "print()\n",
    "print(device_lib.list_local_devices())"
   ]
  },
  {
   "cell_type": "markdown",
   "metadata": {},
   "source": [
    "## Getting data"
   ]
  },
  {
   "cell_type": "code",
   "execution_count": 22,
   "metadata": {},
   "outputs": [
    {
     "data": {
      "text/html": [
       "<div>\n",
       "<style scoped>\n",
       "    .dataframe tbody tr th:only-of-type {\n",
       "        vertical-align: middle;\n",
       "    }\n",
       "\n",
       "    .dataframe tbody tr th {\n",
       "        vertical-align: top;\n",
       "    }\n",
       "\n",
       "    .dataframe thead th {\n",
       "        text-align: right;\n",
       "    }\n",
       "</style>\n",
       "<table border=\"1\" class=\"dataframe\">\n",
       "  <thead>\n",
       "    <tr style=\"text-align: right;\">\n",
       "      <th></th>\n",
       "      <th>sentiment</th>\n",
       "      <th>text</th>\n",
       "    </tr>\n",
       "  </thead>\n",
       "  <tbody>\n",
       "    <tr>\n",
       "      <th>0</th>\n",
       "      <td>negative</td>\n",
       "      <td>oh no it fade away again</td>\n",
       "    </tr>\n",
       "    <tr>\n",
       "      <th>1</th>\n",
       "      <td>positive</td>\n",
       "      <td>bunnylak will kill me but i cant stop listen t...</td>\n",
       "    </tr>\n",
       "    <tr>\n",
       "      <th>2</th>\n",
       "      <td>negative</td>\n",
       "      <td>last day in cali partyin for the last time wit...</td>\n",
       "    </tr>\n",
       "    <tr>\n",
       "      <th>3</th>\n",
       "      <td>negative</td>\n",
       "      <td>is have a major soar throat</td>\n",
       "    </tr>\n",
       "    <tr>\n",
       "      <th>4</th>\n",
       "      <td>positive</td>\n",
       "      <td>my last day a 12 year old</td>\n",
       "    </tr>\n",
       "    <tr>\n",
       "      <th>...</th>\n",
       "      <td>...</td>\n",
       "      <td>...</td>\n",
       "    </tr>\n",
       "    <tr>\n",
       "      <th>1611536</th>\n",
       "      <td>negative</td>\n",
       "      <td>twisuz yeah and how did thi happen i wa updat ...</td>\n",
       "    </tr>\n",
       "    <tr>\n",
       "      <th>1611537</th>\n",
       "      <td>negative</td>\n",
       "      <td>smittygoali im sorri about your dog</td>\n",
       "    </tr>\n",
       "    <tr>\n",
       "      <th>1611538</th>\n",
       "      <td>negative</td>\n",
       "      <td>posipat im alreadi there i wish you were here</td>\n",
       "    </tr>\n",
       "    <tr>\n",
       "      <th>1611539</th>\n",
       "      <td>negative</td>\n",
       "      <td>is think in 12 hour ill be at the airport thi ...</td>\n",
       "    </tr>\n",
       "    <tr>\n",
       "      <th>1611540</th>\n",
       "      <td>negative</td>\n",
       "      <td>ive exhaust my suppli of sweet and snack now i...</td>\n",
       "    </tr>\n",
       "  </tbody>\n",
       "</table>\n",
       "<p>1611541 rows × 2 columns</p>\n",
       "</div>"
      ],
      "text/plain": [
       "        sentiment                                               text\n",
       "0        negative                          oh no it fade away again \n",
       "1        positive  bunnylak will kill me but i cant stop listen t...\n",
       "2        negative  last day in cali partyin for the last time wit...\n",
       "3        negative                       is have a major soar throat \n",
       "4        positive                         my last day a 12 year old \n",
       "...           ...                                                ...\n",
       "1611536  negative  twisuz yeah and how did thi happen i wa updat ...\n",
       "1611537  negative               smittygoali im sorri about your dog \n",
       "1611538  negative     posipat im alreadi there i wish you were here \n",
       "1611539  negative  is think in 12 hour ill be at the airport thi ...\n",
       "1611540  negative  ive exhaust my suppli of sweet and snack now i...\n",
       "\n",
       "[1611541 rows x 2 columns]"
      ]
     },
     "execution_count": 22,
     "metadata": {},
     "output_type": "execute_result"
    }
   ],
   "source": [
    "df = pd.read_csv('consolidated_tweet_data-cleaned-stemmed-lemmatized.csv', sep='\\t')\n",
    "df"
   ]
  },
  {
   "cell_type": "code",
   "execution_count": 23,
   "metadata": {},
   "outputs": [
    {
     "data": {
      "text/html": [
       "<div>\n",
       "<style scoped>\n",
       "    .dataframe tbody tr th:only-of-type {\n",
       "        vertical-align: middle;\n",
       "    }\n",
       "\n",
       "    .dataframe tbody tr th {\n",
       "        vertical-align: top;\n",
       "    }\n",
       "\n",
       "    .dataframe thead th {\n",
       "        text-align: right;\n",
       "    }\n",
       "</style>\n",
       "<table border=\"1\" class=\"dataframe\">\n",
       "  <thead>\n",
       "    <tr style=\"text-align: right;\">\n",
       "      <th></th>\n",
       "      <th>sentiment</th>\n",
       "      <th>text</th>\n",
       "    </tr>\n",
       "  </thead>\n",
       "  <tbody>\n",
       "    <tr>\n",
       "      <th>0</th>\n",
       "      <td>positive</td>\n",
       "      <td>greey_ claro ele merec eu hahad</td>\n",
       "    </tr>\n",
       "    <tr>\n",
       "      <th>1</th>\n",
       "      <td>negative</td>\n",
       "      <td>lidewi i have to work im sorri</td>\n",
       "    </tr>\n",
       "    <tr>\n",
       "      <th>2</th>\n",
       "      <td>negative</td>\n",
       "      <td>pcshakur unfortun not the sheffield crew are a...</td>\n",
       "    </tr>\n",
       "    <tr>\n",
       "      <th>3</th>\n",
       "      <td>negative</td>\n",
       "      <td>httptwitpiccom6qjm3 i want to play thi again a...</td>\n",
       "    </tr>\n",
       "    <tr>\n",
       "      <th>4</th>\n",
       "      <td>negative</td>\n",
       "      <td>boredddddddddddddddddddddddddddddddddddddddddd...</td>\n",
       "    </tr>\n",
       "    <tr>\n",
       "      <th>...</th>\n",
       "      <td>...</td>\n",
       "      <td>...</td>\n",
       "    </tr>\n",
       "    <tr>\n",
       "      <th>805765</th>\n",
       "      <td>negative</td>\n",
       "      <td>underoathband oh wow that a realli rad pic of ...</td>\n",
       "    </tr>\n",
       "    <tr>\n",
       "      <th>805766</th>\n",
       "      <td>positive</td>\n",
       "      <td>eat lunch with my sister</td>\n",
       "    </tr>\n",
       "    <tr>\n",
       "      <th>805767</th>\n",
       "      <td>positive</td>\n",
       "      <td>griffingirl will do</td>\n",
       "    </tr>\n",
       "    <tr>\n",
       "      <th>805768</th>\n",
       "      <td>negative</td>\n",
       "      <td>meh tri to sleep in but the whole hous is awak...</td>\n",
       "    </tr>\n",
       "    <tr>\n",
       "      <th>805769</th>\n",
       "      <td>positive</td>\n",
       "      <td>aronsolomon how will you sleep with me yammer ...</td>\n",
       "    </tr>\n",
       "  </tbody>\n",
       "</table>\n",
       "<p>805770 rows × 2 columns</p>\n",
       "</div>"
      ],
      "text/plain": [
       "       sentiment                                               text\n",
       "0       positive                   greey_ claro ele merec eu hahad \n",
       "1       negative                    lidewi i have to work im sorri \n",
       "2       negative  pcshakur unfortun not the sheffield crew are a...\n",
       "3       negative  httptwitpiccom6qjm3 i want to play thi again a...\n",
       "4       negative  boredddddddddddddddddddddddddddddddddddddddddd...\n",
       "...          ...                                                ...\n",
       "805765  negative  underoathband oh wow that a realli rad pic of ...\n",
       "805766  positive                          eat lunch with my sister \n",
       "805767  positive                               griffingirl will do \n",
       "805768  negative  meh tri to sleep in but the whole hous is awak...\n",
       "805769  positive  aronsolomon how will you sleep with me yammer ...\n",
       "\n",
       "[805770 rows x 2 columns]"
      ]
     },
     "execution_count": 23,
     "metadata": {},
     "output_type": "execute_result"
    }
   ],
   "source": [
    "# How much of Dataset to be used\n",
    "frac = 0.5\n",
    "# sample and shuffle the dataset according to the fraction choise in the line above\n",
    "df = df.sample(frac=frac).reset_index(drop=True)\n",
    "df"
   ]
  },
  {
   "cell_type": "markdown",
   "metadata": {},
   "source": [
    "## Tokenization for training"
   ]
  },
  {
   "cell_type": "code",
   "execution_count": 24,
   "metadata": {},
   "outputs": [],
   "source": [
    "vocabulary_size = 8000"
   ]
  },
  {
   "cell_type": "code",
   "execution_count": 25,
   "metadata": {
    "scrolled": true
   },
   "outputs": [],
   "source": [
    "tokenizer = Tokenizer(num_words=vocabulary_size, split=\" \", oov_token='<OOV>')\n",
    "tokenizer.fit_on_texts(df['text'].values)"
   ]
  },
  {
   "cell_type": "code",
   "execution_count": 26,
   "metadata": {},
   "outputs": [
    {
     "data": {
      "text/plain": [
       "array([[   0,    0,    0,    0,    0,    0,    0,    0,    0,    0,    0,\n",
       "           0,    0,    0,    0,    0,    0,    0,    0,    0,    0,    0,\n",
       "           0,    0,    0,    0,    0,    0,    0,    0,    0,    0,    0,\n",
       "           1,    1,    1,    1, 2582,    1],\n",
       "       [   0,    0,    0,    0,    0,    0,    0,    0,    0,    0,    0,\n",
       "           0,    0,    0,    0,    0,    0,    0,    0,    0,    0,    0,\n",
       "           0,    0,    0,    0,    0,    0,    0,    0,    0,    0,    1,\n",
       "           2,   18,    3,   35,   14,  127],\n",
       "       [   0,    0,    0,    0,    0,    0,    0,    0,    0,    0,    0,\n",
       "           0,    0,    0,    0,    0,    1,  662,   27,    4, 7495, 1663,\n",
       "          41,    5,  515,   13,  569,    1,   48,   93,   35,   16,   11,\n",
       "          44,    3,   62,   63,    5,  611],\n",
       "       [   0,    0,    0,    0,    0,    0,    0,    0,    0,    0,    0,\n",
       "           0,    0,    0,    0,    0,    0,    0,    0,    0,    0,    0,\n",
       "           1,    2,   53,    3,  157,   30,  111, 1697,    2,   52,  799,\n",
       "          39,   25,    1, 1920, 5861,  446],\n",
       "       [   0,    0,    0,    0,    0,    0,    0,    0,    0,    0,    0,\n",
       "           0,    0,    0,    0,    0,    0,    0,    0,    0,    0,    0,\n",
       "           0,    0,    0,    0,    0,    0,    0,    0,    1,   39,   17,\n",
       "         491,    8,   77,   18, 2554,  548]], dtype=int32)"
      ]
     },
     "execution_count": 26,
     "metadata": {},
     "output_type": "execute_result"
    }
   ],
   "source": [
    "X = tokenizer.texts_to_sequences(df['text'].values)\n",
    "X = pad_sequences(X) # padding our text vector so they all have the same length\n",
    "X[:5]"
   ]
  },
  {
   "cell_type": "markdown",
   "metadata": {},
   "source": [
    "## Model, Training and Testing"
   ]
  },
  {
   "cell_type": "markdown",
   "metadata": {},
   "source": [
    "### Creating the model"
   ]
  },
  {
   "cell_type": "code",
   "execution_count": 27,
   "metadata": {},
   "outputs": [],
   "source": [
    "model = Sequential()\n",
    "model.add(Embedding(vocabulary_size, 256, input_length=X.shape[1]))\n",
    "model.add(Dropout(0.3))\n",
    "model.add(Bidirectional(CuDNNGRU(256, return_sequences=True)))\n",
    "# model.add(Dropout(0.3))\n",
    "# model.add(Bidirectional(CuDNNGRU(256, return_sequences=True)))\n",
    "model.add(AttentionLayer(name='attention'))\n",
    "model.add(BatchNormalization())\n",
    "model.add(Dense(2, activation='sigmoid'))"
   ]
  },
  {
   "cell_type": "code",
   "execution_count": 28,
   "metadata": {},
   "outputs": [
    {
     "name": "stdout",
     "output_type": "stream",
     "text": [
      "Model: \"sequential_1\"\n",
      "_________________________________________________________________\n",
      "Layer (type)                 Output Shape              Param #   \n",
      "=================================================================\n",
      "embedding_1 (Embedding)      (None, 39, 256)           2048000   \n",
      "_________________________________________________________________\n",
      "dropout_1 (Dropout)          (None, 39, 256)           0         \n",
      "_________________________________________________________________\n",
      "bidirectional_1 (Bidirection (None, 39, 512)           789504    \n",
      "_________________________________________________________________\n",
      "attention (AttentionLayer)   (None, 512)               263168    \n",
      "_________________________________________________________________\n",
      "batch_normalization_1 (Batch (None, 512)               2048      \n",
      "_________________________________________________________________\n",
      "dense_1 (Dense)              (None, 2)                 1026      \n",
      "=================================================================\n",
      "Total params: 3,103,746\n",
      "Trainable params: 3,102,722\n",
      "Non-trainable params: 1,024\n",
      "_________________________________________________________________\n"
     ]
    }
   ],
   "source": [
    "model.compile(loss='binary_crossentropy', optimizer='adam', metrics=['accuracy'])\n",
    "model.summary()"
   ]
  },
  {
   "cell_type": "markdown",
   "metadata": {},
   "source": [
    "### Training the model"
   ]
  },
  {
   "cell_type": "code",
   "execution_count": 29,
   "metadata": {},
   "outputs": [
    {
     "name": "stdout",
     "output_type": "stream",
     "text": [
      "positive [0 1]\n",
      "negative [1 0]\n",
      "negative [1 0]\n",
      "negative [1 0]\n",
      "negative [1 0]\n"
     ]
    },
    {
     "data": {
      "text/plain": [
       "[None, None, None, None, None]"
      ]
     },
     "execution_count": 29,
     "metadata": {},
     "output_type": "execute_result"
    }
   ],
   "source": [
    "y = pd.get_dummies(df['sentiment']).values\n",
    "[print(df['sentiment'][i], y[i]) for i in range(0,5)]"
   ]
  },
  {
   "cell_type": "code",
   "execution_count": 30,
   "metadata": {},
   "outputs": [],
   "source": [
    "X_train, X_test, y_train, y_test = train_test_split(X, y, test_size=0.2, random_state=0)"
   ]
  },
  {
   "cell_type": "code",
   "execution_count": 31,
   "metadata": {},
   "outputs": [
    {
     "name": "stdout",
     "output_type": "stream",
     "text": [
      "started at:\n",
      "1586169488.7274816\n",
      "Train on 644616 samples\n",
      "Epoch 1/6\n",
      "644616/644616 - 698s - loss: 0.4361 - accuracy: 0.7976\n",
      "Epoch 2/6\n",
      "644616/644616 - 691s - loss: 0.3969 - accuracy: 0.8208\n",
      "Epoch 3/6\n",
      "644616/644616 - 691s - loss: 0.3777 - accuracy: 0.8316\n",
      "Epoch 4/6\n",
      "644616/644616 - 693s - loss: 0.3665 - accuracy: 0.8384\n",
      "Epoch 5/6\n",
      "644616/644616 - 688s - loss: 0.3597 - accuracy: 0.8422\n",
      "Epoch 6/6\n",
      "644616/644616 - 671s - loss: 0.3561 - accuracy: 0.8439\n",
      "68.86520137786866  minutes\n"
     ]
    }
   ],
   "source": [
    "batch_size = 32\n",
    "epochs = 6\n",
    "import time\n",
    "from datetime import datetime\n",
    "datetime = str(datetime.now())\n",
    "csv_logger = tf.keras.callbacks.CSVLogger('training'+datetime+'.log')\n",
    "start = time.time()\n",
    "print(\"started at:\")\n",
    "print(start)\n",
    "history = model.fit(X_train, y_train, epochs=epochs, batch_size=batch_size, verbose=2, callbacks=[csv_logger])\n",
    "end = time.time()\n",
    "elapsed = end - start\n",
    "print(elapsed/60,\" minutes\")"
   ]
  },
  {
   "cell_type": "markdown",
   "metadata": {},
   "source": [
    "Plotting training history"
   ]
  },
  {
   "cell_type": "code",
   "execution_count": 32,
   "metadata": {},
   "outputs": [
    {
     "data": {
      "text/plain": [
       "[<matplotlib.lines.Line2D at 0x7fc8022ee150>]"
      ]
     },
     "execution_count": 32,
     "metadata": {},
     "output_type": "execute_result"
    },
    {
     "data": {
      "text/plain": [
       "Text(0.5, 1.0, 'Model accuracy')"
      ]
     },
     "execution_count": 32,
     "metadata": {},
     "output_type": "execute_result"
    },
    {
     "data": {
      "text/plain": [
       "Text(0, 0.5, 'Accuracy')"
      ]
     },
     "execution_count": 32,
     "metadata": {},
     "output_type": "execute_result"
    },
    {
     "data": {
      "text/plain": [
       "Text(0.5, 0, 'Epoch')"
      ]
     },
     "execution_count": 32,
     "metadata": {},
     "output_type": "execute_result"
    },
    {
     "data": {
      "text/plain": [
       "<matplotlib.legend.Legend at 0x7fc8022dc5d0>"
      ]
     },
     "execution_count": 32,
     "metadata": {},
     "output_type": "execute_result"
    },
    {
     "data": {
      "image/png": "[encoded data removed]",
      "text/plain": [
       "<Figure size 432x288 with 1 Axes>"
      ]
     },
     "metadata": {
      "needs_background": "light"
     },
     "output_type": "display_data"
    },
    {
     "data": {
      "text/plain": [
       "[<matplotlib.lines.Line2D at 0x7fc802250bd0>]"
      ]
     },
     "execution_count": 32,
     "metadata": {},
     "output_type": "execute_result"
    },
    {
     "data": {
      "text/plain": [
       "Text(0.5, 1.0, 'Model loss')"
      ]
     },
     "execution_count": 32,
     "metadata": {},
     "output_type": "execute_result"
    },
    {
     "data": {
      "text/plain": [
       "Text(0, 0.5, 'Loss')"
      ]
     },
     "execution_count": 32,
     "metadata": {},
     "output_type": "execute_result"
    },
    {
     "data": {
      "text/plain": [
       "Text(0.5, 0, 'Epoch')"
      ]
     },
     "execution_count": 32,
     "metadata": {},
     "output_type": "execute_result"
    },
    {
     "data": {
      "text/plain": [
       "<matplotlib.legend.Legend at 0x7fc802259cd0>"
      ]
     },
     "execution_count": 32,
     "metadata": {},
     "output_type": "execute_result"
    },
    {
     "data": {
      "image/png": "[encoded data removed]",
      "text/plain": [
       "<Figure size 432x288 with 1 Axes>"
      ]
     },
     "metadata": {
      "needs_background": "light"
     },
     "output_type": "display_data"
    }
   ],
   "source": [
    "# Plot training & validation accuracy values\n",
    "plt.plot(history.history['accuracy'])\n",
    "# plt.plot(history.history['val_accuracy'])\n",
    "plt.title('Model accuracy')\n",
    "plt.ylabel('Accuracy')\n",
    "plt.xlabel('Epoch')\n",
    "plt.legend(['Train', 'Test'], loc='upper left')\n",
    "plt.show()\n",
    "\n",
    "# Plot training & validation loss values\n",
    "plt.plot(history.history['loss'])\n",
    "# plt.plot(history.history['val_loss'])\n",
    "plt.title('Model loss')\n",
    "plt.ylabel('Loss')\n",
    "plt.xlabel('Epoch')\n",
    "plt.legend(['Train', 'Test'], loc='upper left')\n",
    "plt.show()\n"
   ]
  },
  {
   "cell_type": "markdown",
   "metadata": {},
   "source": [
    "### Testing the model"
   ]
  },
  {
   "cell_type": "code",
   "execution_count": 33,
   "metadata": {},
   "outputs": [
    {
     "name": "stdout",
     "output_type": "stream",
     "text": [
      "greey_ claro ele merec eu hahad  [0.39504454 0.6046281 ] [1 0]\n",
      "lidewi i have to work im sorri  [0.2500005  0.75016505] [0 1]\n",
      "pcshakur unfortun not the sheffield crew are a set of lucki barstool too much work on for u to think about a holiday  [0.6929291 0.307327 ] [1 0]\n",
      "httptwitpiccom6qjm3 i want to play thi again ampamp i miss chill out at repuls bay stanley beach  [0.00980682 0.9902058 ] [0 1]\n",
      "boredddddddddddddddddddddddddddddddddddddddddddddd out me mind and still have sunburnt as  [0.08040172 0.9196609 ] [0 1]\n"
     ]
    },
    {
     "data": {
      "text/plain": [
       "[None, None, None, None, None]"
      ]
     },
     "execution_count": 33,
     "metadata": {},
     "output_type": "execute_result"
    }
   ],
   "source": [
    "predictions = model.predict(X_test)\n",
    "[print(df['text'][i], predictions[i], y_test[i]) for i in range(0, 5)]"
   ]
  },
  {
   "cell_type": "code",
   "execution_count": 34,
   "metadata": {},
   "outputs": [
    {
     "name": "stdout",
     "output_type": "stream",
     "text": [
      "Number of predictions:  161154\n",
      "Number of accurate predictions:  132119\n",
      "Number of false predictions:  29035\n",
      "Accuracy:  0.819830720925326\n"
     ]
    }
   ],
   "source": [
    "accurate_prediction_count, inaccurate_prediction_count = 0, 0\n",
    "for i, prediction in enumerate(predictions):\n",
    "    if np.argmax(prediction)==np.argmax(y_test[i]):\n",
    "        accurate_prediction_count += 1\n",
    "    else:\n",
    "        inaccurate_prediction_count += 1\n",
    "\n",
    "total_predictions = accurate_prediction_count + inaccurate_prediction_count\n",
    "print('Number of predictions: ', total_predictions)\n",
    "print('Number of accurate predictions: ', accurate_prediction_count)\n",
    "print('Number of false predictions: ', inaccurate_prediction_count)    \n",
    "print('Accuracy: ', accurate_prediction_count/total_predictions)"
   ]
  },
  {
   "cell_type": "markdown",
   "metadata": {},
   "source": [
    "### Saving the trained model"
   ]
  },
  {
   "cell_type": "markdown",
   "metadata": {},
   "source": [
    "name of the file"
   ]
  },
  {
   "cell_type": "code",
   "execution_count": 35,
   "metadata": {},
   "outputs": [],
   "source": [
    "name = 'sentiment-analysis-trained-model'"
   ]
  },
  {
   "cell_type": "code",
   "execution_count": 36,
   "metadata": {},
   "outputs": [
    {
     "name": "stdout",
     "output_type": "stream",
     "text": [
      "20200406144751937570\n"
     ]
    }
   ],
   "source": [
    "from datetime import datetime\n",
    "dateTimeObj = datetime.now()\n",
    "date = str(dateTimeObj.date())\n",
    "time = str(dateTimeObj.time())\n",
    "timestamp = date+time\n",
    "punctuation = ['-',':','.']\n",
    "for sign in punctuation:\n",
    "    timestamp = timestamp.replace(sign,'')\n",
    "print(timestamp)"
   ]
  },
  {
   "cell_type": "code",
   "execution_count": 37,
   "metadata": {},
   "outputs": [],
   "source": [
    "model.save(name+timestamp+'.h5')"
   ]
  }
 ],
 "metadata": {
  "hide_input": false,
  "kernelspec": {
   "display_name": "Python 3",
   "language": "python",
   "name": "python3"
  },
  "language_info": {
   "codemirror_mode": {
    "name": "ipython",
    "version": 3
   },
   "file_extension": ".py",
   "mimetype": "text/x-python",
   "name": "python",
   "nbconvert_exporter": "python",
   "pygments_lexer": "ipython3",
   "version": "3.7.5"
  },
  "toc": {
   "base_numbering": 1,
   "nav_menu": {},
   "number_sections": false,
   "sideBar": true,
   "skip_h1_title": false,
   "title_cell": "Table of Contents",
   "title_sidebar": "Contents",
   "toc_cell": false,
   "toc_position": {},
   "toc_section_display": true,
   "toc_window_display": true
  }
 },
 "nbformat": 4,
 "nbformat_minor": 4
}
